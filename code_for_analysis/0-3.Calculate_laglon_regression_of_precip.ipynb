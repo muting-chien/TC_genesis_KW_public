{
 "cells": [
  {
   "cell_type": "code",
   "execution_count": 3,
   "id": "2ff0e663-07d2-4f67-9dec-049c227823eb",
   "metadata": {},
   "outputs": [],
   "source": [
    "#########################\n",
    "# Goal of this code is to generate Fig. 2 in my paper (lag regression figure of KW precip, x: lon, y: lag day)\n",
    "# 2023.12.22\n",
    "# Mu-Ting Chien\n",
    "#########################################"
   ]
  },
  {
   "cell_type": "code",
   "execution_count": 4,
   "id": "eb1cb3e6-4e17-43b4-b7c6-0677c74e777e",
   "metadata": {},
   "outputs": [],
   "source": [
    "import numpy as np\n",
    "from numpy import dtype\n",
    "from netCDF4 import Dataset\n",
    "import matplotlib.pyplot as plt\n",
    "from matplotlib.cm import get_cmap\n",
    "from sklearn import linear_model"
   ]
  },
  {
   "cell_type": "code",
   "execution_count": 5,
   "id": "3064ff8c-86e7-494c-9884-0ab07bd42b7c",
   "metadata": {},
   "outputs": [],
   "source": [
    "DIR = '/glade/work/muting/'\n",
    "CASENAME_LIST2 = list(['SST_AQP3_Qobs_27_-4K','SST_AQP3_Qobs_27','SST_AQP3_Qobs_27_4K'])\n",
    "CASENAME_SHORT_LIST2 = list(['-4K_uniform','CTL','4K_uniform'])\n",
    "dir_out = DIR+'KW/'\n",
    "trange = 'yr03-05'\n",
    "pi = np.pi\n",
    "nlag = 10*8 #10 day\n",
    "ncase = np.size(CASENAME_LIST2)\n",
    "save_data = 1\n",
    "figdir = dir_out+'figure/Post_general/paper2/'\n",
    "output_dir_all = dir_out+'output_data/All_3hr_10yr/'"
   ]
  },
  {
   "cell_type": "code",
   "execution_count": 6,
   "id": "361316fb-de47-41e5-950e-05dc6b333ab2",
   "metadata": {},
   "outputs": [],
   "source": [
    "# Load KW precip anomaly and raw precip anomaly\n",
    "for icase in range(0,ncase):\n",
    "    CASENAME = CASENAME_LIST2[icase]+'_3h_20y'\n",
    "    output_dir = dir_out+'output_data/'+CASENAME+'/'\n",
    "    data = np.load(output_dir+'precip_kw.npz')\n",
    "    time = data['time_pr'] \n",
    "    lon  = data['lon']\n",
    "    nlon = np.size(lon)\n",
    "    nt   = np.size(time)\n",
    "    \n",
    "    # find reference longitude\n",
    "    lon_ref = 180\n",
    "    ilon = np.argwhere(lon==lon_ref).squeeze()\n",
    "    phase_kw = data['phase_correct'][:,ilon] #(time, lon)\n",
    "    pr_ano = data['pr_kwproj_ano_short']\n",
    "    pr_kw_ano = data['KW_filtered_pr']\n",
    "    \n",
    "    # Now that every variable is (time, lon)\n",
    "    # find time with maximum precipitaiton\n",
    "    it_max = np.argwhere(phase_kw==-pi/2).squeeze()    \n",
    "    it_max = np.where( ((it_max<=nlag)|(it_max>=nt-nlag)),np.nan,it_max ) \n",
    "    it_max = np.delete(it_max, np.isnan(it_max)==1)\n",
    "    \n",
    "    it_max_new = np.empty(np.size(it_max),dtype='int')\n",
    "    for i in range(0,np.size(it_max)):\n",
    "        it_max_new[i] = int(it_max[i])\n",
    "                   \n",
    "    # composite pr_ano, pr_kw\n",
    "    if icase == 0:\n",
    "    \tpr_ano_comp = np.empty([nlag*2+1, nlon, ncase])\n",
    "    \tpr_kw_comp  = np.empty([nlag*2+1, nlon, ncase])\n",
    " \n",
    "    pr_ano_comp[nlag,:,icase]  = np.nanmean( pr_ano[it_max_new, :],0)\n",
    "    pr_kw_comp[nlag,:,icase]   = np.nanmean( pr_kw_ano[it_max_new, :],0)\n",
    "    for ilag in range(1,nlag+1):\n",
    "        pr_ano_comp[nlag-ilag,:,icase] = np.nanmean(pr_ano[it_max_new-ilag, :],0)\n",
    "        pr_ano_comp[nlag+ilag,:,icase] = np.nanmean(pr_ano[it_max_new+ilag, :],0)\n",
    "        \n",
    "        pr_kw_comp[nlag-ilag,:,icase] = np.nanmean(pr_kw_ano[it_max_new-ilag, :],0)\n",
    "        pr_kw_comp[nlag+ilag,:,icase] = np.nanmean(pr_kw_ano[it_max_new+ilag, :],0)"
   ]
  },
  {
   "cell_type": "code",
   "execution_count": 7,
   "id": "714e0fcf-01e1-4f74-b102-af0718985f70",
   "metadata": {},
   "outputs": [
    {
     "name": "stdout",
     "output_type": "stream",
     "text": [
      "Finish saving data\n"
     ]
    }
   ],
   "source": [
    "# Save data: lont, tlon, pr_ano_comp, pr_kw_comp\n",
    "t = np.arange(-nlag,nlag+1,1)/8\n",
    "nt = np.size(t)\n",
    "lont, tlon = np.meshgrid(lon, t)\n",
    "sst = np.array([23,27,31])\n",
    "\n",
    "if save_data == 1:\n",
    "    output = output_dir_all+'kw_composite_lag_lon_prano_prkw.nc' \n",
    "    ncout = Dataset(output, 'w', format='NETCDF4')\n",
    "\n",
    "    # define axis size\n",
    "    ncout.createDimension('lon',nlon)\n",
    "    ncout.createDimension('tlag',nt)\n",
    "    ncout.createDimension('case',ncase)\n",
    "\n",
    "    # create time axis\n",
    "    time2 = ncout.createVariable('tlag', dtype('double').char, ('tlag'))\n",
    "    time2.standard_name = 'tlag' \n",
    "    time2.units = '# of 3 hrs compared to maximum KW precip'\n",
    "    time2.axis = 'tlag'        \n",
    "        \n",
    "    # create lon axis\n",
    "    lon2 = ncout.createVariable('lon', dtype('double').char, ('lon'))\n",
    "    lon2.standard_name = 'longitude' \n",
    "    lon2.units = 'degree'\n",
    "    lon2.axis = 'X'     \n",
    "\n",
    "    # create case axis\n",
    "    case2 = ncout.createVariable('case', dtype('double').char, ('case'))\n",
    "    case2.standard_name = 'Equatorial SST values in case (-4K, CTL, +4K)'\n",
    "    case2.units = 'degreeC'\n",
    "    case2.axis = 'case'\n",
    "\n",
    "\n",
    "    # create variable\n",
    "    Vano_out = ncout.createVariable('pr_ano_comp', dtype('double').char, ('tlag','lon','case'))\n",
    "    Vano_out.long_name = 'KW composite precip anomaly (removing climatological mean only), lag correlation on 180E'\n",
    "    Vano_out.units = 'mm/day'   \n",
    "    #\n",
    "    Vkw_out = ncout.createVariable('pr_kw_comp', dtype('double').char, ('tlag','lon','case'))\n",
    "    Vkw_out.long_name = 'KW composite kwBAND-filtered precip, lag correlation on 180E'\n",
    "    Vkw_out.units = 'mm/day'  \n",
    "    #\n",
    "    lont_out = ncout.createVariable('lont', dtype('double').char, ('tlag','lon'))\n",
    "    lont_out.long_name = 'xx when plotting contourf'\n",
    "    lont_out.units = 'none'\n",
    "    #\n",
    "    tlon_out = ncout.createVariable('tlon', dtype('double').char, ('tlag','lon'))\n",
    "    tlon_out.long_name = 'yy when plotting contourf'\n",
    "    tlon_out.units = 'none'     \n",
    "    #\n",
    "    time2[:] = t[:]\n",
    "    lon2[:]  = lon[:]\n",
    "    case2[:] = sst[:]\n",
    "    #\n",
    "    Vano_out[:] = pr_ano_comp[:]\n",
    "    Vkw_out[:]  = pr_kw_comp[:]\n",
    "    lont_out[:] = lont[:]\n",
    "    tlon_out[:] = tlon[:]\n",
    "\n",
    "    print('Finish saving data')"
   ]
  },
  {
   "cell_type": "code",
   "execution_count": 8,
   "id": "33da2c7f-3982-4565-a97a-637edf60dc08",
   "metadata": {},
   "outputs": [],
   "source": [
    "# loading saved data \n",
    "file = output_dir_all+'kw_composite_lag_lon_prano_prkw.nc'\n",
    "data = Dataset( file, \"r\", format=\"NETCDF4\")\n",
    "pr_ano_hovmoller = data.variables['pr_ano_comp'][:]\n",
    "pr_kw_hovmoller = data.variables['pr_kw_comp'][:]\n",
    "lon  = data.variables['lon'][:]\n",
    "tlag = data.variables['tlag'][:]\n",
    "lont = data.variables['lont'][:]\n",
    "tlon = data.variables['tlon'][:]"
   ]
  },
  {
   "cell_type": "code",
   "execution_count": 62,
   "id": "efc20e36-008f-4e2e-be56-06c884f7afbb",
   "metadata": {},
   "outputs": [
    {
     "name": "stdout",
     "output_type": "stream",
     "text": [
      "lon_min, lon_max: 160.0 200.0\n",
      "tlag_min, tlag_max: -1.875 1.875\n",
      "lon_min, lon_max: 160.0 200.0\n",
      "tlag_min, tlag_max: -1.5 1.5\n",
      "lon_min, lon_max: 157.5 202.5\n",
      "tlag_min, tlag_max: -1.25 1.25\n"
     ]
    }
   ],
   "source": [
    "# Diagnose average wavenumber, frequency\n",
    "\n",
    "# Find lag day 0\n",
    "ilag_0 = np.argwhere(tlag==0).squeeze()\n",
    "\n",
    "# Find longitude = 180\n",
    "ilon_180 = np.argwhere(lon==180).squeeze()\n",
    "\n",
    "for icase in range(0,3):\n",
    "    if icase == 0:\n",
    "        zwnum_ave = np.empty([3])\n",
    "        freq_ave  = np.empty([3])\n",
    "    \n",
    "    #################\n",
    "    # 1. Find zwnum ave\n",
    "    pr_kw_lag0 = pr_kw_hovmoller[ilag_0, :, icase]\n",
    "\n",
    "    # find lon with minimum pr_kw_hovmoller\n",
    "    ilon_min = np.argwhere(pr_kw_lag0 == np.min(pr_kw_lag0[:ilon_180])).squeeze()\n",
    "    ilon_max = np.argwhere(pr_kw_lag0 == np.min(pr_kw_lag0[ilon_180:])).squeeze()\n",
    "    \n",
    "    # find zwnum_ave\n",
    "    lon_min = lon[ilon_min]\n",
    "    lon_max = lon[ilon_max]\n",
    "    print('lon_min, lon_max:',lon_min, lon_max)\n",
    "    zwnum_ave[icase] = 360/(lon_max-lon_min)\n",
    "    \n",
    "    #############################\n",
    "    # 2. Find freq ave\n",
    "    pr_kw_lon180 = pr_kw_hovmoller[:, ilon_180, icase]\n",
    "    \n",
    "    # find tlag with minimum pr_kw_hovmoller\n",
    "    it_min = np.argwhere(pr_kw_lon180 == np.min(pr_kw_lon180[:ilag_0])).squeeze()\n",
    "    it_max = np.argwhere(pr_kw_lon180 == np.min(pr_kw_lon180[ilag_0:])).squeeze()    \n",
    "    \n",
    "    # find freq_ave\n",
    "    tlag_min = tlag[it_min]\n",
    "    tlag_max = tlag[it_max]\n",
    "    print('tlag_min, tlag_max:',tlag_min, tlag_max)\n",
    "    freq_ave[icase] = tlag_max-tlag_min"
   ]
  },
  {
   "cell_type": "code",
   "execution_count": 43,
   "id": "652ac43d-02fc-4301-ab53-a64fdb1ee055",
   "metadata": {},
   "outputs": [
    {
     "name": "stdout",
     "output_type": "stream",
     "text": [
      "Average frequency: [3.75 3.   2.5 ]\n",
      "Average zonal wavenum: [9. 9. 8.]\n"
     ]
    }
   ],
   "source": [
    "print('Average frequency:',freq_ave)\n",
    "print('Average zonal wavenum:',zwnum_ave)"
   ]
  },
  {
   "cell_type": "code",
   "execution_count": 59,
   "id": "057fac69-04a2-4f17-9eb0-978d1a3dce5e",
   "metadata": {},
   "outputs": [
    {
     "data": {
      "image/png": "[encoded data removed]",
      "text/plain": [
       "<Figure size 432x288 with 1 Axes>"
      ]
     },
     "metadata": {
      "needs_background": "light"
     },
     "output_type": "display_data"
    },
    {
     "data": {
      "image/png": "[encoded data removed]",
      "text/plain": [
       "<Figure size 432x288 with 1 Axes>"
      ]
     },
     "metadata": {
      "needs_background": "light"
     },
     "output_type": "display_data"
    },
    {
     "data": {
      "image/png": "[encoded data removed]",
      "text/plain": [
       "<Figure size 432x288 with 1 Axes>"
      ]
     },
     "metadata": {
      "needs_background": "light"
     },
     "output_type": "display_data"
    },
    {
     "name": "stdout",
     "output_type": "stream",
     "text": [
      "Cp ave: [12.93694276 16.14079195 22.14137775]\n"
     ]
    }
   ],
   "source": [
    "# Find average phase speed\n",
    "\n",
    "# Only save the data that is bigger than 1.6\n",
    "pr_strong = np.where( pr_kw_hovmoller>=1.6, pr_kw_hovmoller, np.nan)\n",
    "Cp_ave = np.empty([3])\n",
    "for icase in range(0,3):\n",
    "    istrong = np.argwhere(np.isnan(pr_strong[:,:,icase])==0).squeeze()\n",
    "    itlag_strong = istrong[:,0] \n",
    "    ilon_strong  = istrong[:,1]\n",
    "\n",
    "    plt.scatter(lon[ilon_strong], tlag[itlag_strong])\n",
    "    plt.xlim([105,255])\n",
    "    plt.ylim([-7,7])\n",
    "    plt.show()\n",
    "    \n",
    "    # find regression slope\n",
    "    regr = linear_model.LinearRegression()\n",
    "    y = lon[ilon_strong]\n",
    "    x = np.array( [ tlag[itlag_strong] ] ).transpose()\n",
    "    regr.fit(x,y)\n",
    "    \n",
    "    # ynew = b0 + b1*x \n",
    "    b0 = regr.intercept_\n",
    "    b1 = regr.coef_[0]\n",
    "    \n",
    "    Cp_ave[icase] = b1*111*1000/(24*60*60) #m/s\n",
    "\n",
    "print('Cp ave:',Cp_ave)"
   ]
  },
  {
   "cell_type": "code",
   "execution_count": 63,
   "id": "7eeff7b9-bc35-48e4-8c5f-cdca724920a8",
   "metadata": {},
   "outputs": [],
   "source": [
    "# Save output:\n",
    "np.savez(output_dir_all+'kw_zwnum_freq_Cp_ave_from_precip_lag_regression.npz',\\\n",
    "        Cp_ave=Cp_ave, freq_ave=freq_ave, zwnum_ave=zwnum_ave)"
   ]
  },
  {
   "cell_type": "code",
   "execution_count": 67,
   "id": "3f511a24-2855-40aa-aced-e53787959e20",
   "metadata": {},
   "outputs": [
    {
     "name": "stdout",
     "output_type": "stream",
     "text": [
      "Average period: [3.75 3.   2.5 ]\n",
      "Average zonal wavenum: [9. 9. 8.]\n",
      "Average phase speed: [12.93694276 16.14079195 22.14137775]\n",
      "Average equivalent depth: [17.07800897 26.58420048 50.02455191]\n"
     ]
    }
   ],
   "source": [
    "# Test loading output ok\n",
    "data = np.load(output_dir_all+'kw_zwnum_freq_Cp_ave_from_precip_lag_regression.npz')\n",
    "Cp_ave = data['Cp_ave']\n",
    "freq_ave = data['freq_ave']\n",
    "zwnum_ave = data['zwnum_ave']\n",
    "print('Average period:',freq_ave)\n",
    "print('Average zonal wavenum:',zwnum_ave)\n",
    "print('Average phase speed:',Cp_ave)\n",
    "print('Average equivalent depth:',Cp_ave**2/9.8)"
   ]
  }
 ],
 "metadata": {
  "kernelspec": {
   "display_name": "CMIP6 2019.10a",
   "language": "python",
   "name": "cmip6-201910a"
  },
  "language_info": {
   "codemirror_mode": {
    "name": "ipython",
    "version": 3
   },
   "file_extension": ".py",
   "mimetype": "text/x-python",
   "name": "python",
   "nbconvert_exporter": "python",
   "pygments_lexer": "ipython3",
   "version": "3.7.3"
  }
 },
 "nbformat": 4,
 "nbformat_minor": 5
}
