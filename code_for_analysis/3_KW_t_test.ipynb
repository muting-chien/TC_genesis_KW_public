{
 "cells": [
  {
   "cell_type": "markdown",
   "metadata": {},
   "source": [
    "# Perform T-test on KW composite TCGI and each variables\n",
    "Section 3.3 in my postdoc paper 2\n",
    "\n",
    "2025.5.23\n",
    "Mu-Ting Chien"
   ]
  },
  {
   "cell_type": "code",
   "execution_count": 6,
   "metadata": {},
   "outputs": [],
   "source": [
    "import numpy as np\n",
    "import xarray as xr\n",
    "from scipy.stats import t"
   ]
  },
  {
   "cell_type": "code",
   "execution_count": 2,
   "metadata": {},
   "outputs": [],
   "source": [
    "pi  = np.pi"
   ]
  },
  {
   "cell_type": "code",
   "execution_count": 3,
   "metadata": {},
   "outputs": [],
   "source": [
    "DIR = '/barnes-engr-scratch1/c832572266/'\n",
    "file_dir_ace2_100yr = DIR + 'data_output/ace2/ace2_output/repeat_2001-2010/' # input and output directory\n",
    "#file_dir_TCGI_obs  = DIR + 'data_output/ERA5_TCGI/'\n",
    "file_dir_obs_ace2  = DIR + 'data_output/ace2/obs_compare_with_ace2/'"
   ]
  },
  {
   "cell_type": "markdown",
   "metadata": {},
   "source": [
    "# Load mean and std of KW composite"
   ]
  },
  {
   "cell_type": "code",
   "execution_count": 4,
   "metadata": {},
   "outputs": [],
   "source": [
    "# Load TCGI lag regression from ACE2 (100yr)\n",
    "data = np.load(file_dir_ace2_100yr+'TCGI_KW_lag_regression_basin_ace2_100yr.npz')\n",
    "TCGI_lag_kw_basin_ace2         = data['TCGI_lag_kw_basin_ace2']\n",
    "shear_lag_kw_basin_ace2        = data['shear_lag_kw_basin_ace2']\n",
    "col_rh_lag_kw_basin_ace2       = data['col_rh_lag_kw_basin_ace2']\n",
    "abs_vor_clip_lag_kw_basin_ace2 = data['abs_vor_clip_lag_kw_basin_ace2']\n",
    "#abs_vor_lag_kw_basin_ace2=abs_vor_lag_kw_basin_ace2,\\\n",
    "relsst_lag_kw_basin_ace2 = data['relsst_lag_kw_basin_ace2']\n",
    "lags                     = data['lags']\n",
    "basin_list               = data['basin_list']\n",
    "\n",
    "# Load TCGI lag regression from OBS (10yr)\n",
    "data = np.load(file_dir_obs_ace2+'TCGI_KW_lag_regression_basin_era5.npz')\n",
    "TCGI_lag_kw_basin_era5         = data['TCGI_lag_kw_basin_era5']\n",
    "shear_lag_kw_basin_era5        = data['shear_lag_kw_basin_era5']\n",
    "col_rh_lag_kw_basin_era5       = data['col_rh_lag_kw_basin_era5']\n",
    "abs_vor_clip_lag_kw_basin_era5 = data['abs_vor_clip_lag_kw_basin_era5']\n",
    "#abs_vor_lag_kw_basin_era5=abs_vor_lag_kw_basin_era5,\\\n",
    "relsst_lag_kw_basin_era5 = data['relsst_lag_kw_basin_era5']"
   ]
  },
  {
   "cell_type": "code",
   "execution_count": 5,
   "metadata": {},
   "outputs": [],
   "source": [
    "# Load std from KW composite from obs\n",
    "data = np.load(file_dir_obs_ace2+'TCGI_KW_lag_regression_basin_era5_std.npz')\n",
    "TCGI_lag_kw_basin_era5_std         = data['TCGI_lag_kw_basin_era5']\n",
    "shear_lag_kw_basin_era5_std        = data['shear_lag_kw_basin_era5']\n",
    "col_rh_lag_kw_basin_era5_std       = data['col_rh_lag_kw_basin_era5']\n",
    "abs_vor_clip_lag_kw_basin_era5_std = data['abs_vor_clip_lag_kw_basin_era5']   \n",
    "relsst_lag_kw_basin_era5_std = data['relsst_lag_kw_basin_era5']\n",
    "\n",
    "# Load std from ACE2 (100YR)\n",
    "data = np.load(file_dir_ace2_100yr+'TCGI_KW_lag_regression_basin_ace2_100yr_std.npz')\n",
    "TCGI_lag_kw_basin_ace2_std         = data['TCGI_lag_kw_basin_ace2']\n",
    "shear_lag_kw_basin_ace2_std        = data['shear_lag_kw_basin_ace2']\n",
    "col_rh_lag_kw_basin_ace2_std       = data['col_rh_lag_kw_basin_ace2']\n",
    "abs_vor_clip_lag_kw_basin_ace2_std = data['abs_vor_clip_lag_kw_basin_ace2']   \n",
    "relsst_lag_kw_basin_ace2_std = data['relsst_lag_kw_basin_ace2']"
   ]
  },
  {
   "cell_type": "code",
   "execution_count": 11,
   "metadata": {},
   "outputs": [
    {
     "name": "stdout",
     "output_type": "stream",
     "text": [
      "(65, 6)\n"
     ]
    }
   ],
   "source": [
    "print(np.shape(col_rh_lag_kw_basin_ace2_std))"
   ]
  },
  {
   "cell_type": "markdown",
   "metadata": {},
   "source": [
    "# Perform t-test on absvor and colrh"
   ]
  },
  {
   "cell_type": "code",
   "execution_count": 13,
   "metadata": {},
   "outputs": [
    {
     "name": "stdout",
     "output_type": "stream",
     "text": [
      "1.9842169515086827\n",
      "2.2621571628540993\n"
     ]
    }
   ],
   "source": [
    "# mu = xbar +- t_crit_0.975*s/(n-1)^0.5\n",
    "\n",
    "vname = list(['col_rh','abs_vor_clip'])\n",
    "expname = list(['ace2','era5'])\n",
    "\n",
    "for iexp in range(0, 2):\n",
    "\n",
    "    if iexp == 0:\n",
    "        n = 100 # number of years\n",
    "    else:\n",
    "        n = 10\n",
    "    dof = n - 1 # degree of freedom\n",
    "    t_crit = t.ppf(0.975, dof)  # 0.975 corresponds to the upper tail for 95% confidence\n",
    "    print(t_crit)\n",
    "\n",
    "    for v in range(0, 2):\n",
    "\n",
    "        xbar = globals()[vname[v]+'_lag_kw_basin_'+expname[iexp]]\n",
    "        std = globals()[vname[v]+'_lag_kw_basin_'+expname[iexp]+'_std']\n",
    "\n",
    "        if iexp == 0 and v == 0:\n",
    "            dcrh_ace2 = t_crit * std/dof**0.5\n",
    "        elif iexp == 0 and v == 1:\n",
    "            dvor_ace2 = t_crit * std/dof**0.5\n",
    "        elif iexp == 1 and v == 0:\n",
    "            dcrh_era5 = t_crit * std/dof**0.5\n",
    "        elif iexp == 1 and v == 1:\n",
    "            dvor_era5 = t_crit * std/dof**0.5"
   ]
  },
  {
   "cell_type": "code",
   "execution_count": 10,
   "metadata": {},
   "outputs": [
    {
     "name": "stdout",
     "output_type": "stream",
     "text": [
      "(65, 6)\n"
     ]
    }
   ],
   "source": [
    "print(np.shape(dcrh_ace2))"
   ]
  },
  {
   "cell_type": "markdown",
   "metadata": {},
   "source": [
    "# Save output"
   ]
  },
  {
   "cell_type": "code",
   "execution_count": 12,
   "metadata": {},
   "outputs": [],
   "source": [
    "np.savez(file_dir_ace2_100yr+'TCGI_KW_lag_regression_basin_ace2_100yr_ttest_95%.npz',\\\n",
    "        dcrh_ace2=dcrh_ace2, dvor_ace2=dvor_ace2,\\\n",
    "        lags=lags, basin_list=basin_list)\n",
    "\n",
    "np.savez(file_dir_obs_ace2+'TCGI_KW_lag_regression_basin_era5_10yr_ttest_95%.npz',\\\n",
    "        dcrh_era5=dcrh_era5, dvor_era5=dvor_era5,\\\n",
    "        lags=lags, basin_list=basin_list)"
   ]
  }
 ],
 "metadata": {
  "kernelspec": {
   "display_name": "muting-ai-models",
   "language": "python",
   "name": "python3"
  },
  "language_info": {
   "codemirror_mode": {
    "name": "ipython",
    "version": 3
   },
   "file_extension": ".py",
   "mimetype": "text/x-python",
   "name": "python",
   "nbconvert_exporter": "python",
   "pygments_lexer": "ipython3",
   "version": "3.12.2"
  }
 },
 "nbformat": 4,
 "nbformat_minor": 2
}
