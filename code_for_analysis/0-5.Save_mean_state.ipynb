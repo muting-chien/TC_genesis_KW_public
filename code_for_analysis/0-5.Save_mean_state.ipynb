{
 "cells": [
  {
   "cell_type": "code",
   "execution_count": 38,
   "id": "cac1eb3b-8fb9-449f-bbf9-7d57a4148fc4",
   "metadata": {},
   "outputs": [],
   "source": [
    "##########################\n",
    "# Goal of this code is to save the mean state variables: u,v,omega,T,q,RH (3D) and PW (2D)\n",
    "# 2024.3.27\n",
    "# Mu-Ting Chien\n",
    "######################################"
   ]
  },
  {
   "cell_type": "code",
   "execution_count": 39,
   "id": "39eb1da8-cf67-4842-81d1-9a35ce575278",
   "metadata": {},
   "outputs": [],
   "source": [
    "import os\n",
    "import sys\n",
    "sys.path.append('/glade/work/muting/function/')\n",
    "import KW_diagnostics as KW\n",
    "import numpy as np\n",
    "import matplotlib.pyplot as plt\n",
    "\n",
    "# for function only\n",
    "import glob\n",
    "from tkinter import Tcl\n",
    "from netCDF4 import Dataset\n"
   ]
  },
  {
   "cell_type": "code",
   "execution_count": 40,
   "id": "dea709c5-4b7e-42e6-b048-7a39264c29e6",
   "metadata": {},
   "outputs": [],
   "source": [
    "dir_out            = '/glade/work/muting/KW/'\n",
    "CASENAME_LIST2     = list(['SST_AQP3_Qobs_27_-4K',\\\n",
    "                          'SST_AQP3_Qobs_27',\\\n",
    "                          'SST_AQP3_Qobs_27_4K'])\n",
    "output_dir_all = dir_out+'output_data/All_3hr_10yr/'\n",
    "CASENAME_SHORT_LIST = list(['-4K','CTL','4K'])\n",
    "iyr_min = 2\n",
    "iyr_max = 11\n",
    "latmax  = 90"
   ]
  },
  {
   "cell_type": "code",
   "execution_count": 41,
   "id": "007f401f-cd1f-4f5f-ac26-c9bc5ac2a0f3",
   "metadata": {},
   "outputs": [],
   "source": [
    "def load_3D_data_as_mean_state(CASENAME, CASENAME_SHORT, vname, iyr_min, iyr_max, latmax, nfile_skip):\n",
    "    # vname is list(['vname1','vname2','vname3']), number of element in the list could be variable, up to 4 variables\n",
    "    # iyr_min = yr to start (02-->year 3)\n",
    "    # iyr_max = yr to end (04-->year 5)\n",
    "    # latmax = 10 for the tropics\n",
    "    #   For example, original unit of precip is kg/m^2/s. To convert to mm/day, we need to multiply by 1000*s2d.\n",
    "\n",
    "    # Constants\n",
    "    nmon = 12\n",
    "    nt_s = 31\n",
    "    ist   = 0\n",
    "    nyr = iyr_max-iyr_min+1\n",
    "    nt_m = nyr*nmon*8-nfile_skip # to calculate mean state\n",
    "    nt = nt_m*nt_s\n",
    "    nfile_skip_test = 0\n",
    "\n",
    "    # Find how many variables\n",
    "    vnum = np.size(vname)\n",
    "\n",
    "    DIR_in = '/glade/derecho/scratch/muting/FROM_CHEYENNE/'\n",
    "    file_dir = DIR_in+'work_output_pressure_coord_full/'+CASENAME+'/'\n",
    "    ###################\n",
    "    # load CESM 3-hourly output!\n",
    "    for iyr in range(iyr_min,iyr_max+1):\n",
    "        yr_str = \"%04d\" %(iyr+1)\n",
    "        for imon in range(0,nmon):\n",
    "            mon_str = \"%02d\" %(imon+1)\n",
    "            for iday in range(0,8):\n",
    "                day_str = \"%02d\" %(iday)\n",
    "                file_in = file_dir+CASENAME_SHORT+'_'+yr_str+mon_str+day_str+'.nc'\n",
    "                f = glob.glob(file_in)\n",
    "                if len(f)==0:\n",
    "                    nfile_skip_test = nfile_skip_test+1\n",
    "                    continue\n",
    "                data    = Dataset( file_in, \"r\", format=\"NETCDF4\")\n",
    "                if  iday == 0 and imon == 0 and iyr==iyr_min:\n",
    "                    lon = data.variables['lon'][:]\n",
    "                    nlon = np.size(lon)\n",
    "                    lat_org = data.variables['lat'][:]\n",
    "                    dmin = np.abs(lat_org+latmax)\n",
    "                    dmax = np.abs(lat_org-latmax)\n",
    "                    imin = np.argwhere(dmin==np.min(dmin)).squeeze()\n",
    "                    imax = np.argwhere(dmax==np.min(dmax)).squeeze()\n",
    "                    lat = lat_org[imin:imax+1]\n",
    "                    nlat = np.size(lat)\n",
    "                    #\n",
    "                    plev = data.variables['plev'][:]\n",
    "                    nlev = np.size(plev)\n",
    "                    V1_zm = np.zeros([nt,nlat,nlev])\n",
    "\n",
    "                temp= data.variables[vname[0]][:,imin:imax+1,:,:]\n",
    "                nt_small = np.size(temp,0)\n",
    "\n",
    "                if nt_small != nt_s:\n",
    "                    print('Skip with this file, size of time not 31, YEAR:',yr_str,', MON:',mon_str,', FILE:',day_str)\n",
    "                    continue\n",
    "\n",
    "                V1_zm[ist:ist+nt_s,:,:]  = np.nanmean(temp,2)\n",
    "\n",
    "                ist = ist+nt_s\n",
    "    \n",
    "    V1_zm_tm = np.nanmean(V1_zm,0)\n",
    "\n",
    "    return V1_zm_tm, plev, lat"
   ]
  },
  {
   "cell_type": "code",
   "execution_count": null,
   "id": "3d38c090-10fe-4523-ab1b-d4dc4a45daac",
   "metadata": {},
   "outputs": [],
   "source": [
    "for icase in range(0,3):\n",
    "    \n",
    "    CASENAME = CASENAME_LIST2[icase]+'_3h_20y'\n",
    "    CASENAME_SHORT = CASENAME_SHORT_LIST[icase]+'_20y_3h_20y'\n",
    "\n",
    "    # (0) Get nfile_skip\n",
    "    nfile_skip = KW.find_nfile_skip(CASENAME, CASENAME_SHORT, iyr_min, iyr_max)\n",
    "\n",
    "    # (1) Load u\n",
    "    vname = list(['U'])\n",
    "    um, plev, lat = load_3D_data_as_mean_state(CASENAME, CASENAME_SHORT, vname, iyr_min, iyr_max, latmax, nfile_skip)\n",
    "    print('finish loading u')\n",
    "\n",
    "    # Load T\n",
    "    vname = list(['T'])\n",
    "    Tm, plev, lat = load_3D_data_as_mean_state(CASENAME, CASENAME_SHORT, vname, iyr_min, iyr_max, latmax, nfile_skip)\n",
    "    print('finish loading T')\n",
    "\n",
    "    # Load omega\n",
    "    vname = list(['OMEGA'])\n",
    "    wm, plev, lat = load_3D_data_as_mean_state(CASENAME, CASENAME_SHORT, vname, iyr_min, iyr_max, latmax, nfile_skip)\n",
    "    print('finish loading W')\n",
    "\n",
    "    # Load v\n",
    "    vname = list(['V'])\n",
    "    vm, plev, lat = load_3D_data_as_mean_state(CASENAME, CASENAME_SHORT, vname, iyr_min, iyr_max, latmax, nfile_skip)\n",
    "    print('finish loading V')\n",
    "\n",
    "    # Load q\n",
    "    vname = list(['Q'])\n",
    "    qm, plev, lat = load_3D_data_as_mean_state(CASENAME, CASENAME_SHORT, vname, iyr_min, iyr_max, latmax, nfile_skip)\n",
    "    print('finish loading Q')\n",
    "\n",
    "    # Load rh\n",
    "    vname = list(['RELHUM'])\n",
    "    rhm, plev, lat = load_3D_data_as_mean_state(CASENAME, CASENAME_SHORT, vname, iyr_min, iyr_max, latmax, nfile_skip)\n",
    "    print('finish loading RH')\n",
    "\n",
    "    \n",
    "    if icase == 0:\n",
    "        nlev = np.size(plev)\n",
    "        nlat = np.size(lat)\n",
    "        um_all = np.empty([nlat, nlev, 3])\n",
    "        Tm_all = np.empty([nlat, nlev, 3])\n",
    "        vm_all = np.empty([nlat, nlev, 3])\n",
    "        wm_all = np.empty([nlat, nlev, 3])\n",
    "        qm_all = np.empty([nlat, nlev, 3])\n",
    "        rhm_all = np.empty([nlat, nlev, 3])\n",
    "\n",
    "    um_all[:,:,icase] = um\n",
    "    Tm_all[:,:,icase] = Tm\n",
    "    vm_all[:,:,icase] = vm\n",
    "    wm_all[:,:,icase] = wm\n",
    "    qm_all[:,:,icase] = qm\n",
    "    rhm_all[:,:,icase] = rhm\n",
    "\n",
    "    np.savez(output_dir_all+'mean_state_Tuvwq_all.npz', plev=plev, lat=lat, um=um_all, Tm=Tm_all, vm=vm_all, qm=qm_all, wm=wm_all, rhm=rhm_all)\n",
    "    print('finish loading all variables')"
   ]
  },
  {
   "cell_type": "code",
   "execution_count": 47,
   "id": "509fa78f-6ab4-45c5-9b58-d4e9fef9a3f0",
   "metadata": {},
   "outputs": [
    {
     "name": "stdout",
     "output_type": "stream",
     "text": [
      "-13.790173693736016 47.995074787422446\n"
     ]
    }
   ],
   "source": [
    "print(np.min(um_all), np.max(um_all))"
   ]
  },
  {
   "cell_type": "code",
   "execution_count": 48,
   "id": "ec8e816b-cebb-44e0-ac4f-e960357ea525",
   "metadata": {},
   "outputs": [
    {
     "name": "stdout",
     "output_type": "stream",
     "text": [
      "192.995684278998 301.8827329580976\n"
     ]
    }
   ],
   "source": [
    "print(np.min(Tm_all), np.max(Tm_all))"
   ]
  },
  {
   "cell_type": "code",
   "execution_count": null,
   "id": "d24740eb-1d54-47f0-ae51-58257774453a",
   "metadata": {},
   "outputs": [],
   "source": []
  }
 ],
 "metadata": {
  "kernelspec": {
   "display_name": "CMIP6 2019.10a",
   "language": "python",
   "name": "cmip6-201910a"
  },
  "language_info": {
   "codemirror_mode": {
    "name": "ipython",
    "version": 3
   },
   "file_extension": ".py",
   "mimetype": "text/x-python",
   "name": "python",
   "nbconvert_exporter": "python",
   "pygments_lexer": "ipython3",
   "version": "3.7.3"
  }
 },
 "nbformat": 4,
 "nbformat_minor": 5
}
